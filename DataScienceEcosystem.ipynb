{
 "cells": [
  {
   "cell_type": "markdown",
   "id": "71295e91-834b-4392-966f-fc5963544775",
   "metadata": {},
   "source": [
    "# Data Science Tools and Ecosystem"
   ]
  },
  {
   "cell_type": "markdown",
   "id": "3628e61d-0eb2-4a77-b6a0-7c4b9846ac60",
   "metadata": {},
   "source": [
    "In this notebook, Data Science Tools and Ecosystem are summarized"
   ]
  },
  {
   "cell_type": "markdown",
   "id": "3a9f1519-88bd-4005-a9c4-aff60c4e6c86",
   "metadata": {},
   "source": [
    "**Objectives:**\n",
    "- python\n",
    "- R \n",
    "- SQL\n",
    "- swift"
   ]
  },
  {
   "cell_type": "markdown",
   "id": "ab14d190-01a5-44f8-94cd-fac3713dc874",
   "metadata": {},
   "source": [
    "Some of the popular languages that Data Scientists use are:\n",
    "1. python\n",
    "2. R\n",
    "3. SQL"
   ]
  },
  {
   "cell_type": "markdown",
   "id": "8ade277c-bc0f-4f97-afb9-9f88a6c0c754",
   "metadata": {},
   "source": [
    "Some of the commonly used libraries used by Data Scientists include:\n",
    "1. NumPy\n",
    "2. pandas\n",
    "3. Matplotlib"
   ]
  },
  {
   "cell_type": "markdown",
   "id": "d33e0f0b-bec2-4630-9aec-db0f78eff3f6",
   "metadata": {},
   "source": [
    "| Data Science Tools |\n",
    "|------------------- |\n",
    "| Jupyter Notebook |\n",
    "| Rstudio |\n",
    "| Visual Studio Code |"
   ]
  },
  {
   "cell_type": "markdown",
   "id": "35808281-f4f5-4cd6-84fc-0ab99672d191",
   "metadata": {},
   "source": [
    "### Below are a few examples of evaluating arithmetic expressions in Python"
   ]
  },
  {
   "cell_type": "code",
   "execution_count": null,
   "id": "16e72c3f-7355-4050-968f-d43990e84af5",
   "metadata": {
    "tags": []
   },
   "outputs": [],
   "source": [
    "## This a simple arithmetic expression to mutiply then add integers\n",
    "(3*4)+5"
   ]
  },
  {
   "cell_type": "markdown",
   "id": "a1464553-2312-462c-80e5-03c304bec6a9",
   "metadata": {},
   "source": [
    "## Author\n",
    "name "
   ]
  }
 ],
 "metadata": {
  "kernelspec": {
   "display_name": "Python",
   "language": "python",
   "name": "conda-env-python-py"
  },
  "language_info": {
   "codemirror_mode": {
    "name": "ipython",
    "version": 3
   },
   "file_extension": ".py",
   "mimetype": "text/x-python",
   "name": "python",
   "nbconvert_exporter": "python",
   "pygments_lexer": "ipython3",
   "version": "3.7.12"
  }
 },
 "nbformat": 4,
 "nbformat_minor": 5
}
